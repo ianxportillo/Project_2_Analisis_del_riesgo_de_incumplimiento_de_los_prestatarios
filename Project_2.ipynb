{
 "cells": [
  {
   "cell_type": "markdown",
   "metadata": {},
   "source": [
    "# Análisis del riesgo de incumplimiento de los prestatarios\n",
    "\n",
    "Tu proyecto consiste en preparar un informe para la división de préstamos de un banco. Deberás averiguar si el estado civil y el número de hijos de un cliente tienen un impacto en el incumplimiento de pago de un préstamo. El banco ya tiene algunos datos sobre la solvencia crediticia de los clientes.\n",
    "\n",
    "Tu informe se tendrá en cuenta al crear una **puntuación de crédito** para un cliente potencial. La **puntuación de crédito** se utiliza para evaluar la capacidad de un prestatario potencial para pagar su préstamo."
   ]
  },
  {
   "cell_type": "markdown",
   "metadata": {},
   "source": [
    "## Abre el archivo de datos y mira la información general. "
   ]
  },
  {
   "cell_type": "code",
   "execution_count": 1,
   "metadata": {},
   "outputs": [],
   "source": [
    "# Cargar todas las librerías\n",
    "import pandas as pd\n",
    "import numpy as np"
   ]
  },
  {
   "cell_type": "code",
   "execution_count": 2,
   "metadata": {},
   "outputs": [],
   "source": [
    "# Carga los datos\n",
    "df = pd.read_csv('/datasets/credit_scoring_eng.csv')"
   ]
  },
  {
   "cell_type": "markdown",
   "metadata": {},
   "source": [
    "## Ejercicio 1. Exploración de datos\n",
    "\n",
    "**Descripción de los datos**\n",
    "- `children` - el número de hijos en la familia\n",
    "- `days_employed` - experiencia laboral en días\n",
    "- `dob_years` - la edad del cliente en años\n",
    "- `education` - la educación del cliente\n",
    "- `education_id` - identificador de educación\n",
    "- `family_status` - estado civil\n",
    "- `family_status_id` - identificador de estado civil\n",
    "- `gender` - género del cliente\n",
    "- `income_type` - tipo de empleo\n",
    "- `debt` - ¿había alguna deuda en el pago de un préstamo?\n",
    "- `total_income` - ingreso mensual\n",
    "- `purpose` - el propósito de obtener un préstamo"
   ]
  },
  {
   "cell_type": "code",
   "execution_count": 3,
   "metadata": {},
   "outputs": [
    {
     "name": "stdout",
     "output_type": "stream",
     "text": [
      "Cantidad de filas del data frame: 21525\n",
      "Cantidad de columnas del data frame: 12\n"
     ]
    }
   ],
   "source": [
    "# Vamos a ver cuántas filas y columnas tiene nuestro conjunto de datos\n",
    "\n",
    "print(f'Cantidad de filas del data frame: {df.shape[0]}')\n",
    "print(f'Cantidad de columnas del data frame: {df.shape[1]}')"
   ]
  },
  {
   "cell_type": "code",
   "execution_count": 4,
   "metadata": {
    "scrolled": true
   },
   "outputs": [
    {
     "data": {
      "text/html": [
       "<div>\n",
       "<style scoped>\n",
       "    .dataframe tbody tr th:only-of-type {\n",
       "        vertical-align: middle;\n",
       "    }\n",
       "\n",
       "    .dataframe tbody tr th {\n",
       "        vertical-align: top;\n",
       "    }\n",
       "\n",
       "    .dataframe thead th {\n",
       "        text-align: right;\n",
       "    }\n",
       "</style>\n",
       "<table border=\"1\" class=\"dataframe\">\n",
       "  <thead>\n",
       "    <tr style=\"text-align: right;\">\n",
       "      <th></th>\n",
       "      <th>children</th>\n",
       "      <th>days_employed</th>\n",
       "      <th>dob_years</th>\n",
       "      <th>education</th>\n",
       "      <th>education_id</th>\n",
       "      <th>family_status</th>\n",
       "      <th>family_status_id</th>\n",
       "      <th>gender</th>\n",
       "      <th>income_type</th>\n",
       "      <th>debt</th>\n",
       "      <th>total_income</th>\n",
       "      <th>purpose</th>\n",
       "    </tr>\n",
       "  </thead>\n",
       "  <tbody>\n",
       "    <tr>\n",
       "      <th>0</th>\n",
       "      <td>1</td>\n",
       "      <td>-8437.673028</td>\n",
       "      <td>42</td>\n",
       "      <td>bachelor's degree</td>\n",
       "      <td>0</td>\n",
       "      <td>married</td>\n",
       "      <td>0</td>\n",
       "      <td>F</td>\n",
       "      <td>employee</td>\n",
       "      <td>0</td>\n",
       "      <td>40620.102</td>\n",
       "      <td>purchase of the house</td>\n",
       "    </tr>\n",
       "    <tr>\n",
       "      <th>1</th>\n",
       "      <td>1</td>\n",
       "      <td>-4024.803754</td>\n",
       "      <td>36</td>\n",
       "      <td>secondary education</td>\n",
       "      <td>1</td>\n",
       "      <td>married</td>\n",
       "      <td>0</td>\n",
       "      <td>F</td>\n",
       "      <td>employee</td>\n",
       "      <td>0</td>\n",
       "      <td>17932.802</td>\n",
       "      <td>car purchase</td>\n",
       "    </tr>\n",
       "    <tr>\n",
       "      <th>2</th>\n",
       "      <td>0</td>\n",
       "      <td>-5623.422610</td>\n",
       "      <td>33</td>\n",
       "      <td>Secondary Education</td>\n",
       "      <td>1</td>\n",
       "      <td>married</td>\n",
       "      <td>0</td>\n",
       "      <td>M</td>\n",
       "      <td>employee</td>\n",
       "      <td>0</td>\n",
       "      <td>23341.752</td>\n",
       "      <td>purchase of the house</td>\n",
       "    </tr>\n",
       "    <tr>\n",
       "      <th>3</th>\n",
       "      <td>3</td>\n",
       "      <td>-4124.747207</td>\n",
       "      <td>32</td>\n",
       "      <td>secondary education</td>\n",
       "      <td>1</td>\n",
       "      <td>married</td>\n",
       "      <td>0</td>\n",
       "      <td>M</td>\n",
       "      <td>employee</td>\n",
       "      <td>0</td>\n",
       "      <td>42820.568</td>\n",
       "      <td>supplementary education</td>\n",
       "    </tr>\n",
       "    <tr>\n",
       "      <th>4</th>\n",
       "      <td>0</td>\n",
       "      <td>340266.072047</td>\n",
       "      <td>53</td>\n",
       "      <td>secondary education</td>\n",
       "      <td>1</td>\n",
       "      <td>civil partnership</td>\n",
       "      <td>1</td>\n",
       "      <td>F</td>\n",
       "      <td>retiree</td>\n",
       "      <td>0</td>\n",
       "      <td>25378.572</td>\n",
       "      <td>to have a wedding</td>\n",
       "    </tr>\n",
       "    <tr>\n",
       "      <th>5</th>\n",
       "      <td>0</td>\n",
       "      <td>-926.185831</td>\n",
       "      <td>27</td>\n",
       "      <td>bachelor's degree</td>\n",
       "      <td>0</td>\n",
       "      <td>civil partnership</td>\n",
       "      <td>1</td>\n",
       "      <td>M</td>\n",
       "      <td>business</td>\n",
       "      <td>0</td>\n",
       "      <td>40922.170</td>\n",
       "      <td>purchase of the house</td>\n",
       "    </tr>\n",
       "    <tr>\n",
       "      <th>6</th>\n",
       "      <td>0</td>\n",
       "      <td>-2879.202052</td>\n",
       "      <td>43</td>\n",
       "      <td>bachelor's degree</td>\n",
       "      <td>0</td>\n",
       "      <td>married</td>\n",
       "      <td>0</td>\n",
       "      <td>F</td>\n",
       "      <td>business</td>\n",
       "      <td>0</td>\n",
       "      <td>38484.156</td>\n",
       "      <td>housing transactions</td>\n",
       "    </tr>\n",
       "    <tr>\n",
       "      <th>7</th>\n",
       "      <td>0</td>\n",
       "      <td>-152.779569</td>\n",
       "      <td>50</td>\n",
       "      <td>SECONDARY EDUCATION</td>\n",
       "      <td>1</td>\n",
       "      <td>married</td>\n",
       "      <td>0</td>\n",
       "      <td>M</td>\n",
       "      <td>employee</td>\n",
       "      <td>0</td>\n",
       "      <td>21731.829</td>\n",
       "      <td>education</td>\n",
       "    </tr>\n",
       "    <tr>\n",
       "      <th>8</th>\n",
       "      <td>2</td>\n",
       "      <td>-6929.865299</td>\n",
       "      <td>35</td>\n",
       "      <td>BACHELOR'S DEGREE</td>\n",
       "      <td>0</td>\n",
       "      <td>civil partnership</td>\n",
       "      <td>1</td>\n",
       "      <td>F</td>\n",
       "      <td>employee</td>\n",
       "      <td>0</td>\n",
       "      <td>15337.093</td>\n",
       "      <td>having a wedding</td>\n",
       "    </tr>\n",
       "    <tr>\n",
       "      <th>9</th>\n",
       "      <td>0</td>\n",
       "      <td>-2188.756445</td>\n",
       "      <td>41</td>\n",
       "      <td>secondary education</td>\n",
       "      <td>1</td>\n",
       "      <td>married</td>\n",
       "      <td>0</td>\n",
       "      <td>M</td>\n",
       "      <td>employee</td>\n",
       "      <td>0</td>\n",
       "      <td>23108.150</td>\n",
       "      <td>purchase of the house for my family</td>\n",
       "    </tr>\n",
       "  </tbody>\n",
       "</table>\n",
       "</div>"
      ],
      "text/plain": [
       "   children  days_employed  dob_years            education  education_id  \\\n",
       "0         1   -8437.673028         42    bachelor's degree             0   \n",
       "1         1   -4024.803754         36  secondary education             1   \n",
       "2         0   -5623.422610         33  Secondary Education             1   \n",
       "3         3   -4124.747207         32  secondary education             1   \n",
       "4         0  340266.072047         53  secondary education             1   \n",
       "5         0    -926.185831         27    bachelor's degree             0   \n",
       "6         0   -2879.202052         43    bachelor's degree             0   \n",
       "7         0    -152.779569         50  SECONDARY EDUCATION             1   \n",
       "8         2   -6929.865299         35    BACHELOR'S DEGREE             0   \n",
       "9         0   -2188.756445         41  secondary education             1   \n",
       "\n",
       "       family_status  family_status_id gender income_type  debt  total_income  \\\n",
       "0            married                 0      F    employee     0     40620.102   \n",
       "1            married                 0      F    employee     0     17932.802   \n",
       "2            married                 0      M    employee     0     23341.752   \n",
       "3            married                 0      M    employee     0     42820.568   \n",
       "4  civil partnership                 1      F     retiree     0     25378.572   \n",
       "5  civil partnership                 1      M    business     0     40922.170   \n",
       "6            married                 0      F    business     0     38484.156   \n",
       "7            married                 0      M    employee     0     21731.829   \n",
       "8  civil partnership                 1      F    employee     0     15337.093   \n",
       "9            married                 0      M    employee     0     23108.150   \n",
       "\n",
       "                               purpose  \n",
       "0                purchase of the house  \n",
       "1                         car purchase  \n",
       "2                purchase of the house  \n",
       "3              supplementary education  \n",
       "4                    to have a wedding  \n",
       "5                purchase of the house  \n",
       "6                 housing transactions  \n",
       "7                            education  \n",
       "8                     having a wedding  \n",
       "9  purchase of the house for my family  "
      ]
     },
     "execution_count": 4,
     "metadata": {},
     "output_type": "execute_result"
    }
   ],
   "source": [
    "# vamos a mostrar las primeras filas N\n",
    "\n",
    "df.head(10)"
   ]
  },
  {
   "cell_type": "markdown",
   "metadata": {},
   "source": [
    "Al analizar la información del dataFrame se observa que existen valores ausentes en las columnas days_employed y total_income. Los valores de las columnas education y purpose requieren estandarización.\n",
    "\n",
    "Al analizar las primeras 10 filas del dataFrame observamos que en la columna days_employed hay valores negativos, en la columna education hay valores duplicados aparentemente por falta de estandarización en la escritura, hay filas en mayúsculas, minúsculas y una combinación de ambas, el mismo problema se encuentra presente en la columna purpose."
   ]
  },
  {
   "cell_type": "code",
   "execution_count": 5,
   "metadata": {
    "scrolled": false
   },
   "outputs": [
    {
     "data": {
      "text/html": [
       "<div>\n",
       "<style scoped>\n",
       "    .dataframe tbody tr th:only-of-type {\n",
       "        vertical-align: middle;\n",
       "    }\n",
       "\n",
       "    .dataframe tbody tr th {\n",
       "        vertical-align: top;\n",
       "    }\n",
       "\n",
       "    .dataframe thead th {\n",
       "        text-align: right;\n",
       "    }\n",
       "</style>\n",
       "<table border=\"1\" class=\"dataframe\">\n",
       "  <thead>\n",
       "    <tr style=\"text-align: right;\">\n",
       "      <th></th>\n",
       "      <th>children</th>\n",
       "      <th>days_employed</th>\n",
       "      <th>dob_years</th>\n",
       "      <th>education_id</th>\n",
       "      <th>family_status_id</th>\n",
       "      <th>debt</th>\n",
       "      <th>total_income</th>\n",
       "    </tr>\n",
       "  </thead>\n",
       "  <tbody>\n",
       "    <tr>\n",
       "      <th>count</th>\n",
       "      <td>21525.000000</td>\n",
       "      <td>19351.000000</td>\n",
       "      <td>21525.000000</td>\n",
       "      <td>21525.000000</td>\n",
       "      <td>21525.000000</td>\n",
       "      <td>21525.000000</td>\n",
       "      <td>19351.000000</td>\n",
       "    </tr>\n",
       "    <tr>\n",
       "      <th>mean</th>\n",
       "      <td>0.538908</td>\n",
       "      <td>63046.497661</td>\n",
       "      <td>43.293380</td>\n",
       "      <td>0.817236</td>\n",
       "      <td>0.972544</td>\n",
       "      <td>0.080883</td>\n",
       "      <td>26787.568355</td>\n",
       "    </tr>\n",
       "    <tr>\n",
       "      <th>std</th>\n",
       "      <td>1.381587</td>\n",
       "      <td>140827.311974</td>\n",
       "      <td>12.574584</td>\n",
       "      <td>0.548138</td>\n",
       "      <td>1.420324</td>\n",
       "      <td>0.272661</td>\n",
       "      <td>16475.450632</td>\n",
       "    </tr>\n",
       "    <tr>\n",
       "      <th>min</th>\n",
       "      <td>-1.000000</td>\n",
       "      <td>-18388.949901</td>\n",
       "      <td>0.000000</td>\n",
       "      <td>0.000000</td>\n",
       "      <td>0.000000</td>\n",
       "      <td>0.000000</td>\n",
       "      <td>3306.762000</td>\n",
       "    </tr>\n",
       "    <tr>\n",
       "      <th>25%</th>\n",
       "      <td>0.000000</td>\n",
       "      <td>-2747.423625</td>\n",
       "      <td>33.000000</td>\n",
       "      <td>1.000000</td>\n",
       "      <td>0.000000</td>\n",
       "      <td>0.000000</td>\n",
       "      <td>16488.504500</td>\n",
       "    </tr>\n",
       "    <tr>\n",
       "      <th>50%</th>\n",
       "      <td>0.000000</td>\n",
       "      <td>-1203.369529</td>\n",
       "      <td>42.000000</td>\n",
       "      <td>1.000000</td>\n",
       "      <td>0.000000</td>\n",
       "      <td>0.000000</td>\n",
       "      <td>23202.870000</td>\n",
       "    </tr>\n",
       "    <tr>\n",
       "      <th>75%</th>\n",
       "      <td>1.000000</td>\n",
       "      <td>-291.095954</td>\n",
       "      <td>53.000000</td>\n",
       "      <td>1.000000</td>\n",
       "      <td>1.000000</td>\n",
       "      <td>0.000000</td>\n",
       "      <td>32549.611000</td>\n",
       "    </tr>\n",
       "    <tr>\n",
       "      <th>max</th>\n",
       "      <td>20.000000</td>\n",
       "      <td>401755.400475</td>\n",
       "      <td>75.000000</td>\n",
       "      <td>4.000000</td>\n",
       "      <td>4.000000</td>\n",
       "      <td>1.000000</td>\n",
       "      <td>362496.645000</td>\n",
       "    </tr>\n",
       "  </tbody>\n",
       "</table>\n",
       "</div>"
      ],
      "text/plain": [
       "           children  days_employed     dob_years  education_id  \\\n",
       "count  21525.000000   19351.000000  21525.000000  21525.000000   \n",
       "mean       0.538908   63046.497661     43.293380      0.817236   \n",
       "std        1.381587  140827.311974     12.574584      0.548138   \n",
       "min       -1.000000  -18388.949901      0.000000      0.000000   \n",
       "25%        0.000000   -2747.423625     33.000000      1.000000   \n",
       "50%        0.000000   -1203.369529     42.000000      1.000000   \n",
       "75%        1.000000    -291.095954     53.000000      1.000000   \n",
       "max       20.000000  401755.400475     75.000000      4.000000   \n",
       "\n",
       "       family_status_id          debt   total_income  \n",
       "count      21525.000000  21525.000000   19351.000000  \n",
       "mean           0.972544      0.080883   26787.568355  \n",
       "std            1.420324      0.272661   16475.450632  \n",
       "min            0.000000      0.000000    3306.762000  \n",
       "25%            0.000000      0.000000   16488.504500  \n",
       "50%            0.000000      0.000000   23202.870000  \n",
       "75%            1.000000      0.000000   32549.611000  \n",
       "max            4.000000      1.000000  362496.645000  "
      ]
     },
     "execution_count": 5,
     "metadata": {},
     "output_type": "execute_result"
    }
   ],
   "source": [
    "# Obtener información sobre los datos\n",
    "df.describe()"
   ]
  },
  {
   "cell_type": "markdown",
   "metadata": {},
   "source": [
    "Existen valores ausentes en las columnas days_employed y total_income."
   ]
  },
  {
   "cell_type": "code",
   "execution_count": 6,
   "metadata": {
    "scrolled": true
   },
   "outputs": [
    {
     "name": "stdout",
     "output_type": "stream",
     "text": [
      "       children  days_employed  dob_years            education  education_id  \\\n",
      "12            0            NaN         65  secondary education             1   \n",
      "26            0            NaN         41  secondary education             1   \n",
      "29            0            NaN         63  secondary education             1   \n",
      "41            0            NaN         50  secondary education             1   \n",
      "55            0            NaN         54  secondary education             1   \n",
      "...         ...            ...        ...                  ...           ...   \n",
      "21489         2            NaN         47  Secondary Education             1   \n",
      "21495         1            NaN         50  secondary education             1   \n",
      "21497         0            NaN         48    BACHELOR'S DEGREE             0   \n",
      "21502         1            NaN         42  secondary education             1   \n",
      "21510         2            NaN         28  secondary education             1   \n",
      "\n",
      "           family_status  family_status_id gender    income_type  debt  \\\n",
      "12     civil partnership                 1      M        retiree     0   \n",
      "26               married                 0      M  civil servant     0   \n",
      "29             unmarried                 4      F        retiree     0   \n",
      "41               married                 0      F  civil servant     0   \n",
      "55     civil partnership                 1      F        retiree     1   \n",
      "...                  ...               ...    ...            ...   ...   \n",
      "21489            married                 0      M       business     0   \n",
      "21495  civil partnership                 1      F       employee     0   \n",
      "21497            married                 0      F       business     0   \n",
      "21502            married                 0      F       employee     0   \n",
      "21510            married                 0      F       employee     0   \n",
      "\n",
      "       total_income                   purpose  \n",
      "12              NaN         to have a wedding  \n",
      "26              NaN                 education  \n",
      "29              NaN    building a real estate  \n",
      "41              NaN  second-hand car purchase  \n",
      "55              NaN         to have a wedding  \n",
      "...             ...                       ...  \n",
      "21489           NaN         purchase of a car  \n",
      "21495           NaN          wedding ceremony  \n",
      "21497           NaN       building a property  \n",
      "21502           NaN    building a real estate  \n",
      "21510           NaN              car purchase  \n",
      "\n",
      "[2174 rows x 12 columns]\n"
     ]
    }
   ],
   "source": [
    "# Veamos la tabla filtrada con valores ausentes de la primera columna donde faltan datos\n",
    "\n",
    "print(df[df['days_employed'].isnull()])"
   ]
  },
  {
   "cell_type": "markdown",
   "metadata": {},
   "source": [
    "Los valores ausentes parecen simétricos, una primer suposición sería que son usuarios que nunca han trabajado y por tanto no tienen ingresos o que prefieren no compartir esta información"
   ]
  },
  {
   "cell_type": "code",
   "execution_count": 7,
   "metadata": {},
   "outputs": [
    {
     "name": "stdout",
     "output_type": "stream",
     "text": [
      "La cantidad de filas con valores nulos es : 2174\n"
     ]
    }
   ],
   "source": [
    "# Apliquemos múltiples condiciones para filtrar datos y veamos el número de filas en la tabla filtrada.\n",
    "empty = df[df['days_employed'].isnull() & df['total_income'].isnull()]\n",
    "print(f'La cantidad de filas con valores nulos es : {empty.shape[0]}' )"
   ]
  },
  {
   "cell_type": "markdown",
   "metadata": {},
   "source": [
    "**Conclusión intermedia**\n",
    "\n",
    "Observamos que el dataframe empty que contiene los valores ausentes en ambas columnas tiene la misma cantidad de filas que la cantidad de nulos en la columna days_employed, eso nos indica que los valores ausentes son simétricos."
   ]
  },
  {
   "cell_type": "code",
   "execution_count": 8,
   "metadata": {},
   "outputs": [
    {
     "name": "stdout",
     "output_type": "stream",
     "text": [
      "Porcentaje de valores ausentes:\n",
      "10.099883855981417\n"
     ]
    }
   ],
   "source": [
    "# Vamos a investigar a los clientes que no tienen datos sobre la característica identificada y la columna con los valores ausentes\n",
    "n = df.shape[0]\n",
    "\n",
    "print('Porcentaje de valores ausentes:')\n",
    "print((empty.shape[0] / n)* 100)"
   ]
  },
  {
   "cell_type": "code",
   "execution_count": 9,
   "metadata": {},
   "outputs": [],
   "source": [
    "# Comprobación de la distribución\n",
    "\n",
    "proyect_without_empty = df[df['days_employed'].notna()]"
   ]
  },
  {
   "cell_type": "markdown",
   "metadata": {},
   "source": [
    "Generamos el dataframe proyect_without_empty para comparar con el dataframe original y observar si los valores ausentes afectan de manera considerable el dataframe\n",
    "\n",
    "**Posibles razones por las que hay valores ausentes en los datos**\n",
    "\n",
    "Como se mencionó anteriormente se consideran 2 opciones para los valores ausentes:\n",
    "\n",
    "- Usuarios que nunca han trabajado y por tanto no tienen ingresos\n",
    "- Usuarios que prefieren no compartir esta información"
   ]
  },
  {
   "cell_type": "code",
   "execution_count": 10,
   "metadata": {},
   "outputs": [
    {
     "name": "stdout",
     "output_type": "stream",
     "text": [
      " 0     66.191352\n",
      " 1     21.849126\n",
      " 2      9.383625\n",
      " 3      1.655934\n",
      " 20     0.413983\n",
      " 4      0.321987\n",
      "-1      0.137994\n",
      " 5      0.045998\n",
      "Name: children, dtype: float64\n",
      "\n",
      " 0     65.732869\n",
      " 1     22.383275\n",
      " 2      9.547038\n",
      " 3      1.533101\n",
      " 20     0.353078\n",
      "-1      0.218351\n",
      " 4      0.190476\n",
      " 5      0.041812\n",
      "Name: children, dtype: float64\n"
     ]
    }
   ],
   "source": [
    "print(100*empty['children'].value_counts(normalize=True))\n",
    "print()\n",
    "print(100*df['children'].value_counts(normalize=True))"
   ]
  },
  {
   "cell_type": "markdown",
   "metadata": {},
   "source": [
    "Observamos que los valores ausentes no cambian la distribución de la columna children."
   ]
  },
  {
   "cell_type": "code",
   "execution_count": 11,
   "metadata": {},
   "outputs": [
    {
     "name": "stdout",
     "output_type": "stream",
     "text": [
      "34    3.173873\n",
      "40    3.035879\n",
      "31    2.989880\n",
      "42    2.989880\n",
      "35    2.943882\n",
      "36    2.897884\n",
      "47    2.713891\n",
      "41    2.713891\n",
      "30    2.667893\n",
      "28    2.621895\n",
      "57    2.575897\n",
      "58    2.575897\n",
      "54    2.529899\n",
      "38    2.483901\n",
      "56    2.483901\n",
      "37    2.437902\n",
      "52    2.437902\n",
      "39    2.345906\n",
      "33    2.345906\n",
      "50    2.345906\n",
      "51    2.299908\n",
      "45    2.299908\n",
      "49    2.299908\n",
      "29    2.299908\n",
      "43    2.299908\n",
      "46    2.207912\n",
      "55    2.207912\n",
      "48    2.115915\n",
      "53    2.023919\n",
      "44    2.023919\n",
      "60    1.793928\n",
      "61    1.747930\n",
      "62    1.747930\n",
      "64    1.701932\n",
      "32    1.701932\n",
      "27    1.655934\n",
      "23    1.655934\n",
      "26    1.609936\n",
      "59    1.563937\n",
      "63    1.333947\n",
      "25    1.057958\n",
      "24    0.965961\n",
      "66    0.919963\n",
      "65    0.919963\n",
      "21    0.827967\n",
      "22    0.781969\n",
      "67    0.735971\n",
      "0     0.459982\n",
      "68    0.413983\n",
      "69    0.229991\n",
      "20    0.229991\n",
      "71    0.229991\n",
      "70    0.137994\n",
      "72    0.091996\n",
      "19    0.045998\n",
      "73    0.045998\n",
      "Name: dob_years, dtype: float64\n",
      "\n",
      "35    2.866434\n",
      "40    2.829268\n",
      "41    2.819977\n",
      "34    2.801394\n",
      "38    2.778165\n",
      "42    2.773519\n",
      "33    2.699187\n",
      "39    2.662021\n",
      "31    2.601626\n",
      "36    2.578397\n",
      "44    2.541231\n",
      "29    2.531940\n",
      "30    2.508711\n",
      "48    2.499419\n",
      "37    2.494774\n",
      "50    2.387921\n",
      "43    2.383275\n",
      "32    2.369338\n",
      "49    2.360046\n",
      "28    2.336818\n",
      "45    2.308943\n",
      "27    2.290360\n",
      "56    2.262485\n",
      "52    2.248548\n",
      "47    2.229965\n",
      "54    2.225319\n",
      "46    2.206736\n",
      "58    2.141696\n",
      "57    2.137050\n",
      "53    2.132404\n",
      "51    2.081301\n",
      "59    2.062718\n",
      "55    2.058072\n",
      "26    1.895470\n",
      "60    1.751452\n",
      "25    1.658537\n",
      "61    1.649245\n",
      "62    1.635308\n",
      "63    1.249710\n",
      "64    1.231127\n",
      "24    1.226481\n",
      "23    1.180023\n",
      "65    0.901278\n",
      "66    0.850174\n",
      "22    0.850174\n",
      "67    0.775842\n",
      "21    0.515679\n",
      "0     0.469222\n",
      "68    0.459930\n",
      "69    0.394890\n",
      "70    0.301974\n",
      "71    0.269454\n",
      "20    0.236934\n",
      "72    0.153310\n",
      "19    0.065041\n",
      "73    0.037166\n",
      "74    0.027875\n",
      "75    0.004646\n",
      "Name: dob_years, dtype: float64\n"
     ]
    }
   ],
   "source": [
    "print(100*empty['dob_years'].value_counts(normalize=True))\n",
    "print()\n",
    "print(100*df['dob_years'].value_counts(normalize=True))"
   ]
  },
  {
   "cell_type": "markdown",
   "metadata": {},
   "source": [
    "En la columna dob_years tampoco observamos un cambio significativo en la distribución de los datos."
   ]
  },
  {
   "cell_type": "code",
   "execution_count": 12,
   "metadata": {},
   "outputs": [
    {
     "name": "stdout",
     "output_type": "stream",
     "text": [
      "married              56.899724\n",
      "civil partnership    20.331187\n",
      "unmarried            13.247470\n",
      "divorced              5.151794\n",
      "widow / widower       4.369825\n",
      "Name: family_status, dtype: float64\n",
      "\n",
      "married              57.514518\n",
      "civil partnership    19.405343\n",
      "unmarried            13.068525\n",
      "divorced              5.551684\n",
      "widow / widower       4.459930\n",
      "Name: family_status, dtype: float64\n"
     ]
    }
   ],
   "source": [
    "print(100*empty['family_status'].value_counts(normalize=True))\n",
    "print()\n",
    "print(100*df['family_status'].value_counts(normalize=True))"
   ]
  },
  {
   "cell_type": "markdown",
   "metadata": {},
   "source": [
    "En la columna family_status tampoco observamos un cambio significativo en la distribución de los datos."
   ]
  },
  {
   "cell_type": "code",
   "execution_count": 13,
   "metadata": {},
   "outputs": [
    {
     "name": "stdout",
     "output_type": "stream",
     "text": [
      "F    68.26127\n",
      "M    31.73873\n",
      "Name: gender, dtype: float64\n",
      "\n",
      "F      66.137050\n",
      "M      33.858304\n",
      "XNA     0.004646\n",
      "Name: gender, dtype: float64\n"
     ]
    }
   ],
   "source": [
    "print(100*empty['gender'].value_counts(normalize=True))\n",
    "print()\n",
    "print(100*df['gender'].value_counts(normalize=True))"
   ]
  },
  {
   "cell_type": "markdown",
   "metadata": {},
   "source": [
    "En la columna gender tampoco observamos un cambio significativo en la distribución de los datos."
   ]
  },
  {
   "cell_type": "code",
   "execution_count": 14,
   "metadata": {},
   "outputs": [
    {
     "name": "stdout",
     "output_type": "stream",
     "text": [
      "employee         50.827967\n",
      "business         23.367065\n",
      "retiree          18.997240\n",
      "civil servant     6.761730\n",
      "entrepreneur      0.045998\n",
      "Name: income_type, dtype: float64\n",
      "\n",
      "employee                       51.656214\n",
      "business                       23.623693\n",
      "retiree                        17.914053\n",
      "civil servant                   6.778165\n",
      "entrepreneur                    0.009292\n",
      "unemployed                      0.009292\n",
      "student                         0.004646\n",
      "paternity / maternity leave     0.004646\n",
      "Name: income_type, dtype: float64\n"
     ]
    }
   ],
   "source": [
    "print(100*empty['income_type'].value_counts(normalize=True))\n",
    "print()\n",
    "print(100*df['income_type'].value_counts(normalize=True))\n"
   ]
  },
  {
   "cell_type": "markdown",
   "metadata": {},
   "source": [
    "En la columna income_type observamos que en el dataframe completo aparecen más categorías pero su porcentaje es tan bajo que no representan un cambio significativo en los datos."
   ]
  },
  {
   "cell_type": "markdown",
   "metadata": {},
   "source": [
    "**Conclusiones**\n",
    "\n",
    "Al comparar ambos dataframes concluimos que los valores ausentes no generan un cambio significativo en la distribución de los datos y por tanto consideramos a los valores ausentes como accidentales."
   ]
  },
  {
   "cell_type": "markdown",
   "metadata": {},
   "source": [
    "## Transformación de datos"
   ]
  },
  {
   "cell_type": "code",
   "execution_count": 15,
   "metadata": {},
   "outputs": [
    {
     "data": {
      "text/plain": [
       "array([\"bachelor's degree\", 'secondary education', 'Secondary Education',\n",
       "       'SECONDARY EDUCATION', \"BACHELOR'S DEGREE\", 'some college',\n",
       "       'primary education', \"Bachelor's Degree\", 'SOME COLLEGE',\n",
       "       'Some College', 'PRIMARY EDUCATION', 'Primary Education',\n",
       "       'Graduate Degree', 'GRADUATE DEGREE', 'graduate degree'],\n",
       "      dtype=object)"
      ]
     },
     "execution_count": 15,
     "metadata": {},
     "output_type": "execute_result"
    }
   ],
   "source": [
    "# Veamos todos los valores en la columna de educación para verificar si será necesario corregir la ortografía y qué habrá que corregir exactamente\n",
    "df['education'].unique()"
   ]
  },
  {
   "cell_type": "code",
   "execution_count": 16,
   "metadata": {
    "scrolled": true
   },
   "outputs": [],
   "source": [
    "# Arregla los registros si es necesario\n",
    "df['education'] = df['education'].str.lower()\n",
    "\n",
    "df['education'] = df['education'].replace('some college', 'college')\n",
    "df['education'] = df['education'].replace(\"bachelor's degree\", 'bachelors degree')"
   ]
  },
  {
   "cell_type": "code",
   "execution_count": 17,
   "metadata": {},
   "outputs": [
    {
     "data": {
      "text/plain": [
       "array(['bachelors degree', 'secondary education', 'college',\n",
       "       'primary education', 'graduate degree'], dtype=object)"
      ]
     },
     "execution_count": 17,
     "metadata": {},
     "output_type": "execute_result"
    }
   ],
   "source": [
    "# Comprobar todos los valores en la columna para asegurarnos de que los hayamos corregido\n",
    "df['education'].unique()\n"
   ]
  },
  {
   "cell_type": "markdown",
   "metadata": {},
   "source": [
    "Estandarizamos los datos de la columna education convirtiendolos a minúsculas y cambiando 2 valores."
   ]
  },
  {
   "cell_type": "code",
   "execution_count": 18,
   "metadata": {},
   "outputs": [
    {
     "data": {
      "text/plain": [
       "array([ 1,  0,  3,  2, -1,  4, 20,  5])"
      ]
     },
     "execution_count": 18,
     "metadata": {},
     "output_type": "execute_result"
    }
   ],
   "source": [
    "# Veamos la distribución de los valores en la columna `children`\n",
    "df['children'].unique()"
   ]
  },
  {
   "cell_type": "markdown",
   "metadata": {},
   "source": [
    "Observamos que la columna children tiene 2 valores extraños, el valor -1, ya que no se puede tener un valor negativo de hijos, cambiaremos estos valores usando valor absoluto. El siguiente valor extraño es el valor 20, por la cantidad de filas con este valor simplemente las reemplazaremos por 2 considerando que se trate de un error al capturar los datos"
   ]
  },
  {
   "cell_type": "code",
   "execution_count": 19,
   "metadata": {},
   "outputs": [
    {
     "name": "stdout",
     "output_type": "stream",
     "text": [
      "La cantidad de filas con hijos -1 es: 47\n",
      "\n",
      "La cantidad de filas con hijos 20 es: 76\n"
     ]
    }
   ],
   "source": [
    "# [arregla los datos según tu decisión]\n",
    "children = len(df[df['children'] == -1])\n",
    "print(f'La cantidad de filas con hijos -1 es: {children}')\n",
    "print()\n",
    "\n",
    "children = len(df[df['children'] == 20])\n",
    "print(f'La cantidad de filas con hijos 20 es: {children}')\n",
    "\n",
    "df['children'] = df['children'].abs()\n",
    "#Cambiar 20 por 2\n",
    "df['children'] = df['children'].replace(20,2)"
   ]
  },
  {
   "cell_type": "code",
   "execution_count": 20,
   "metadata": {},
   "outputs": [
    {
     "data": {
      "text/plain": [
       "array([1, 0, 3, 2, 4, 5])"
      ]
     },
     "execution_count": 20,
     "metadata": {},
     "output_type": "execute_result"
    }
   ],
   "source": [
    "# Comprobar la columna `children` de nuevo para asegurarnos de que todo está arreglado\n",
    "\n",
    "df['children'].unique()\n",
    "\n",
    "#Cambiar 20 por 2 verificando la cantidad de datos"
   ]
  },
  {
   "cell_type": "markdown",
   "metadata": {},
   "source": [
    "En la columna days_employes observamos muchos valores negativos y los valores positivos son sumamente grandes.\n",
    "\n",
    "Para empezar comprobaremos el porcentaje que representan estos datos erróneos"
   ]
  },
  {
   "cell_type": "code",
   "execution_count": 21,
   "metadata": {},
   "outputs": [
    {
     "name": "stdout",
     "output_type": "stream",
     "text": [
      "Cantidad de valores negativos:\n",
      "15906\n",
      "Porcentaje de valores negativos:\n",
      "73.89547038327527\n",
      "\n",
      "Cantidad de valores irreales:\n",
      "3445\n",
      "Porcentaje de valores irreales:\n",
      "16.004645760743323\n"
     ]
    }
   ],
   "source": [
    "# Encuentra datos problemáticos en `days_employed`, si existen, y calcula el porcentaje\n",
    "negative_days_employed = df[df['days_employed'] < 0]\n",
    "print('Cantidad de valores negativos:')\n",
    "print(len(negative_days_employed))\n",
    "print('Porcentaje de valores negativos:')\n",
    "print((len(negative_days_employed) / len(df))* 100)\n",
    "print()\n",
    "\n",
    "not_real_days_employed = df[df['days_employed'] > 0] #Uso 21900 que corresponderia a 60 años\n",
    "print('Cantidad de valores irreales:')\n",
    "print(len(not_real_days_employed))\n",
    "print('Porcentaje de valores irreales:')\n",
    "print((len(not_real_days_employed) / len(df))* 100)"
   ]
  },
  {
   "cell_type": "markdown",
   "metadata": {},
   "source": [
    "Los datos sumamente grandes, al no ser un porcentaje tan grande, los sustituiremos por valores ausentes para que no afecten posteriormente al calculo y a los valores negativos les sacaremos valor absoluto para convertirlos en positivos, ya que posiblemente se deban a un error en la captura de datos."
   ]
  },
  {
   "cell_type": "code",
   "execution_count": 22,
   "metadata": {},
   "outputs": [],
   "source": [
    "# Aborda los valores problemáticos, si existen.\n",
    "df.loc[(df.days_employed > 0), 'days_employed'] = None\n",
    "df['days_employed'] = df['days_employed'].abs()\n"
   ]
  },
  {
   "cell_type": "code",
   "execution_count": 23,
   "metadata": {},
   "outputs": [
    {
     "name": "stdout",
     "output_type": "stream",
     "text": [
      "Cantidad de valores negativos:\n",
      "0\n",
      "Porcentaje de valores negativos:\n",
      "0.0\n"
     ]
    }
   ],
   "source": [
    "# Comprueba el resultado - asegúrate de que esté arreglado\n",
    "negative_days_employed = df[df['days_employed'] < 0]\n",
    "print('Cantidad de valores negativos:')\n",
    "print(len(negative_days_employed))\n",
    "print('Porcentaje de valores negativos:')\n",
    "print((len(negative_days_employed) / len(df))* 100)"
   ]
  },
  {
   "cell_type": "markdown",
   "metadata": {},
   "source": [
    "Ahora revisaremos la edad de los clientes en busca de valores sospechosos."
   ]
  },
  {
   "cell_type": "code",
   "execution_count": 24,
   "metadata": {
    "scrolled": true
   },
   "outputs": [
    {
     "name": "stdout",
     "output_type": "stream",
     "text": [
      "[ 0 19 20 21 22 23 24 25 26 27 28 29 30 31 32 33 34 35 36 37 38 39 40 41\n",
      " 42 43 44 45 46 47 48 49 50 51 52 53 54 55 56 57 58 59 60 61 62 63 64 65\n",
      " 66 67 68 69 70 71 72 73 74 75]\n",
      "Cantidad de valores cero:\n",
      "101\n",
      "Porcentaje de valores cero:\n",
      "0.4692218350754936\n",
      "\n"
     ]
    }
   ],
   "source": [
    "# Revisa `dob_years` en busca de valores sospechosos y cuenta el porcentaje\n",
    "dob_years = df['dob_years']\n",
    "dob_years = dob_years.sort_values(ascending=True)\n",
    "print(dob_years.unique())\n",
    "\n",
    "zero_dob_years = df[df['dob_years'] == 0]\n",
    "print('Cantidad de valores cero:')\n",
    "print(len(zero_dob_years))\n",
    "print('Porcentaje de valores cero:')\n",
    "print((len(zero_dob_years) / len(df))* 100)\n",
    "print()"
   ]
  },
  {
   "cell_type": "markdown",
   "metadata": {},
   "source": [
    "Observamos que hay valores de edad 0, los sustuiremos con la mediana de los valores de edad."
   ]
  },
  {
   "cell_type": "code",
   "execution_count": 25,
   "metadata": {},
   "outputs": [],
   "source": [
    "##### Resuelve los problemas en la columna `dob_years`, si existen\n",
    "\n",
    "median_dob_years = df['dob_years'].median().astype('int64')\n",
    "df['dob_years'] = df['dob_years'].replace(0,median_dob_years)\n"
   ]
  },
  {
   "cell_type": "code",
   "execution_count": 26,
   "metadata": {},
   "outputs": [
    {
     "name": "stdout",
     "output_type": "stream",
     "text": [
      "[19 20 21 22 23 24 25 26 27 28 29 30 31 32 33 34 35 36 37 38 39 40 41 42\n",
      " 43 44 45 46 47 48 49 50 51 52 53 54 55 56 57 58 59 60 61 62 63 64 65 66\n",
      " 67 68 69 70 71 72 73 74 75]\n"
     ]
    }
   ],
   "source": [
    "# Comprueba el resultado - asegúrate de que esté arreglado\n",
    "dob_years = df['dob_years']\n",
    "dob_years = dob_years.sort_values(ascending=True)\n",
    "print(dob_years.unique())"
   ]
  },
  {
   "cell_type": "markdown",
   "metadata": {},
   "source": [
    "A continuación revisaremos la columna family_status, pero no se identificaron valores conflictivos y no se realizan cambios."
   ]
  },
  {
   "cell_type": "code",
   "execution_count": 27,
   "metadata": {},
   "outputs": [
    {
     "data": {
      "text/plain": [
       "array(['married', 'civil partnership', 'widow / widower', 'divorced',\n",
       "       'unmarried'], dtype=object)"
      ]
     },
     "execution_count": 27,
     "metadata": {},
     "output_type": "execute_result"
    }
   ],
   "source": [
    "# Veamos los valores de la columna\n",
    "\n",
    "df['family_status'].unique()"
   ]
  },
  {
   "cell_type": "markdown",
   "metadata": {},
   "source": [
    "Analizamos la columna gender y observamos una fila con valor XNA, se decide eliminar dicha fila"
   ]
  },
  {
   "cell_type": "code",
   "execution_count": 28,
   "metadata": {},
   "outputs": [
    {
     "name": "stdout",
     "output_type": "stream",
     "text": [
      "['F' 'M' 'XNA']\n",
      "       children  days_employed  dob_years education  education_id  \\\n",
      "10701         0    2358.600502         24   college             2   \n",
      "\n",
      "           family_status  family_status_id gender income_type  debt  \\\n",
      "10701  civil partnership                 1    XNA    business     0   \n",
      "\n",
      "       total_income          purpose  \n",
      "10701     32624.825  buy real estate  \n"
     ]
    }
   ],
   "source": [
    "# Veamos los valores en la columna\n",
    "print(df['gender'].unique())\n",
    "\n",
    "print(df[df['gender'] == 'XNA'])"
   ]
  },
  {
   "cell_type": "code",
   "execution_count": 29,
   "metadata": {},
   "outputs": [],
   "source": [
    "# Aborda los valores problemáticos, si existen\n",
    "\n",
    "#Eliminar dato na\n",
    "df.drop(df[df['gender'] == 'XNA'].index, inplace=True)"
   ]
  },
  {
   "cell_type": "code",
   "execution_count": 30,
   "metadata": {},
   "outputs": [
    {
     "data": {
      "text/plain": [
       "array(['F', 'M'], dtype=object)"
      ]
     },
     "execution_count": 30,
     "metadata": {},
     "output_type": "execute_result"
    }
   ],
   "source": [
    "# Comprueba el resultado - asegúrate de que esté arreglado\n",
    "df['gender'].unique()\n"
   ]
  },
  {
   "cell_type": "markdown",
   "metadata": {},
   "source": [
    "A continuación revisaremos la columna income_type, pero no se identificaron valores conflictivos y no se realizan cambios."
   ]
  },
  {
   "cell_type": "code",
   "execution_count": 31,
   "metadata": {},
   "outputs": [
    {
     "data": {
      "text/plain": [
       "array(['employee', 'retiree', 'business', 'civil servant', 'unemployed',\n",
       "       'entrepreneur', 'student', 'paternity / maternity leave'],\n",
       "      dtype=object)"
      ]
     },
     "execution_count": 31,
     "metadata": {},
     "output_type": "execute_result"
    }
   ],
   "source": [
    "# Veamos los valores en la columna\n",
    "df['income_type'].unique()"
   ]
  },
  {
   "cell_type": "markdown",
   "metadata": {},
   "source": [
    "Revisamos la columna purpose y observamos muchos valores similares, así que se estandarizan para reducirlo a una cantidad de opciones menor"
   ]
  },
  {
   "cell_type": "code",
   "execution_count": 32,
   "metadata": {},
   "outputs": [
    {
     "data": {
      "text/plain": [
       "array(['purchase of the house', 'car purchase', 'supplementary education',\n",
       "       'to have a wedding', 'housing transactions', 'education',\n",
       "       'having a wedding', 'purchase of the house for my family',\n",
       "       'buy real estate', 'buy commercial real estate',\n",
       "       'buy residential real estate', 'construction of own property',\n",
       "       'property', 'building a property', 'buying a second-hand car',\n",
       "       'buying my own car', 'transactions with commercial real estate',\n",
       "       'building a real estate', 'housing',\n",
       "       'transactions with my real estate', 'cars', 'to become educated',\n",
       "       'second-hand car purchase', 'getting an education', 'car',\n",
       "       'wedding ceremony', 'to get a supplementary education',\n",
       "       'purchase of my own house', 'real estate transactions',\n",
       "       'getting higher education', 'to own a car', 'purchase of a car',\n",
       "       'profile education', 'university education',\n",
       "       'buying property for renting out', 'to buy a car',\n",
       "       'housing renovation', 'going to university'], dtype=object)"
      ]
     },
     "execution_count": 32,
     "metadata": {},
     "output_type": "execute_result"
    }
   ],
   "source": [
    "#Veamos los valores en la columna purpose\n",
    "\n",
    "df['purpose'].unique()"
   ]
  },
  {
   "cell_type": "code",
   "execution_count": 33,
   "metadata": {},
   "outputs": [],
   "source": [
    "#Se estandarizan los valores de purpose para evitar valores ambiguos o similares\n",
    "\n",
    "df.loc[df['purpose'].str.contains('house'), 'purpose'] = 'house'\n",
    "df.loc[df['purpose'].str.contains('car'), 'purpose'] = 'car'\n",
    "education = ['educated', 'education', 'university']\n",
    "df.loc[df['purpose'].str.contains('|'.join(education)), 'purpose'] = 'education'\n",
    "df.loc[df['purpose'].str.contains('wedding'), 'purpose'] = 'wedding'\n",
    "df.loc[df['purpose'].str.contains('real estate'), 'purpose'] = 'real estate'\n",
    "df.loc[df['purpose'].str.contains('property'), 'purpose'] = 'property'\n",
    "df.loc[df['purpose'].str.contains('housing'), 'purpose'] = 'housing'"
   ]
  },
  {
   "cell_type": "code",
   "execution_count": 34,
   "metadata": {},
   "outputs": [
    {
     "data": {
      "text/plain": [
       "array(['house', 'car', 'education', 'wedding', 'housing', 'real estate',\n",
       "       'property'], dtype=object)"
      ]
     },
     "execution_count": 34,
     "metadata": {},
     "output_type": "execute_result"
    }
   ],
   "source": [
    "df['purpose'].unique()"
   ]
  },
  {
   "cell_type": "markdown",
   "metadata": {},
   "source": [
    "Observamos que el dataframe cuenta con 247 valores duplicados, al representar un porcentaje bajo de los datos, directamente se eliminan."
   ]
  },
  {
   "cell_type": "code",
   "execution_count": 35,
   "metadata": {},
   "outputs": [
    {
     "name": "stdout",
     "output_type": "stream",
     "text": [
      "249\n",
      "       children  days_employed  dob_years            education  education_id  \\\n",
      "829           0            NaN         57  secondary education             1   \n",
      "1247          0            NaN         54  secondary education             1   \n",
      "2700          0            NaN         65  secondary education             1   \n",
      "2849          0            NaN         41  secondary education             1   \n",
      "3075          0            NaN         62  secondary education             1   \n",
      "...         ...            ...        ...                  ...           ...   \n",
      "21281         1            NaN         30     bachelors degree             0   \n",
      "21321         0            NaN         56  secondary education             1   \n",
      "21391         0            NaN         52  secondary education             1   \n",
      "21415         0            NaN         54  secondary education             1   \n",
      "21502         1            NaN         42  secondary education             1   \n",
      "\n",
      "           family_status  family_status_id gender income_type  debt  \\\n",
      "829    civil partnership                 1      F    business     0   \n",
      "1247   civil partnership                 1      M    employee     0   \n",
      "2700             married                 0      F     retiree     0   \n",
      "2849             married                 0      F    employee     0   \n",
      "3075             married                 0      M     retiree     0   \n",
      "...                  ...               ...    ...         ...   ...   \n",
      "21281            married                 0      F    employee     0   \n",
      "21321            married                 0      F     retiree     0   \n",
      "21391            married                 0      F    business     0   \n",
      "21415            married                 0      F     retiree     0   \n",
      "21502            married                 0      F    employee     0   \n",
      "\n",
      "       total_income      purpose  \n",
      "829             NaN    education  \n",
      "1247            NaN      wedding  \n",
      "2700            NaN     property  \n",
      "2849            NaN        house  \n",
      "3075            NaN     property  \n",
      "...             ...          ...  \n",
      "21281           NaN  real estate  \n",
      "21321           NaN  real estate  \n",
      "21391           NaN        house  \n",
      "21415           NaN      housing  \n",
      "21502           NaN  real estate  \n",
      "\n",
      "[249 rows x 12 columns]\n"
     ]
    }
   ],
   "source": [
    "# Comprobar los duplicados\n",
    "print(df.duplicated().sum())\n",
    "duplicated = df[df.duplicated()]\n",
    "print(duplicated)"
   ]
  },
  {
   "cell_type": "code",
   "execution_count": 36,
   "metadata": {},
   "outputs": [],
   "source": [
    "# Aborda los duplicados, si existen\n",
    "df = df.drop_duplicates().reset_index(drop=True)"
   ]
  },
  {
   "cell_type": "code",
   "execution_count": 37,
   "metadata": {},
   "outputs": [
    {
     "name": "stdout",
     "output_type": "stream",
     "text": [
      "0\n"
     ]
    }
   ],
   "source": [
    "# Última comprobación para ver si tenemos duplicados\n",
    "print(df.duplicated().sum())"
   ]
  },
  {
   "cell_type": "code",
   "execution_count": 38,
   "metadata": {},
   "outputs": [
    {
     "name": "stdout",
     "output_type": "stream",
     "text": [
      "<class 'pandas.core.frame.DataFrame'>\n",
      "RangeIndex: 21275 entries, 0 to 21274\n",
      "Data columns (total 12 columns):\n",
      " #   Column            Non-Null Count  Dtype  \n",
      "---  ------            --------------  -----  \n",
      " 0   children          21275 non-null  int64  \n",
      " 1   days_employed     15905 non-null  float64\n",
      " 2   dob_years         21275 non-null  int64  \n",
      " 3   education         21275 non-null  object \n",
      " 4   education_id      21275 non-null  int64  \n",
      " 5   family_status     21275 non-null  object \n",
      " 6   family_status_id  21275 non-null  int64  \n",
      " 7   gender            21275 non-null  object \n",
      " 8   income_type       21275 non-null  object \n",
      " 9   debt              21275 non-null  int64  \n",
      " 10  total_income      19350 non-null  float64\n",
      " 11  purpose           21275 non-null  object \n",
      "dtypes: float64(2), int64(5), object(5)\n",
      "memory usage: 1.9+ MB\n"
     ]
    }
   ],
   "source": [
    "# Comprueba el tamaño del conjunto de datos que tienes ahora, después de haber ejecutado estas primeras manipulaciones\n",
    "df.info()"
   ]
  },
  {
   "cell_type": "markdown",
   "metadata": {},
   "source": [
    "Observamos que la cantidad de datos se vio reducida, pero seguimos contando con valores ausentes en las columnas days_employes y total_income."
   ]
  },
  {
   "cell_type": "markdown",
   "metadata": {},
   "source": [
    "# Trabajar con valores ausentes"
   ]
  },
  {
   "cell_type": "markdown",
   "metadata": {},
   "source": [
    "Generamos diccionarios para las columnas family status y education."
   ]
  },
  {
   "cell_type": "code",
   "execution_count": 39,
   "metadata": {},
   "outputs": [],
   "source": [
    "# Encuentra los diccionarios\n",
    "\n",
    "#Generar diccionarios family status y education id\n",
    "\n",
    "family_dict={\n",
    "    'married':0,\n",
    "    'civil partnership':1,\n",
    "    'widow / widower':2,\n",
    "    'divorced':3,\n",
    "    'unmarried':4,\n",
    "}\n",
    "\n",
    "education_dict={\n",
    "    'bachelors degree':0,\n",
    "    'secondary education':1,\n",
    "    'college':2,\n",
    "    'primary education':3,\n",
    "    'graduate degree':4,\n",
    "}"
   ]
  },
  {
   "cell_type": "markdown",
   "metadata": {},
   "source": [
    "### Restaurar valores ausentes en `total_income`"
   ]
  },
  {
   "cell_type": "markdown",
   "metadata": {},
   "source": [
    "Para trabajar de mejor manera con los datos generaremos la columna age_groups que nos permitirá clasificar y tener una mejor visión de las edades de los usuarios."
   ]
  },
  {
   "cell_type": "code",
   "execution_count": 40,
   "metadata": {},
   "outputs": [],
   "source": [
    "# Vamos a escribir una función que calcule la categoría de edad\n",
    "\n",
    "def age_groups(age):\n",
    "    if age <= 30:\n",
    "        return '19-30'\n",
    "    if 30 < age <= 40:\n",
    "        return '31-40'\n",
    "    if 40 < age <= 50:\n",
    "        return '41-50'\n",
    "    if 50 < age <= 60:\n",
    "        return '51-60'\n",
    "    if 60 < age <= 70:\n",
    "        return '61-70'\n",
    "    return '70+'\n",
    "    "
   ]
  },
  {
   "cell_type": "code",
   "execution_count": 41,
   "metadata": {},
   "outputs": [
    {
     "name": "stdout",
     "output_type": "stream",
     "text": [
      "19-30\n",
      "31-40\n",
      "41-50\n",
      "70+\n"
     ]
    }
   ],
   "source": [
    "# Prueba si la función funciona bien\n",
    "print(age_groups(20))\n",
    "print(age_groups(35))\n",
    "print(age_groups(42))\n",
    "print(age_groups(78))"
   ]
  },
  {
   "cell_type": "code",
   "execution_count": 42,
   "metadata": {},
   "outputs": [],
   "source": [
    "# Crear una nueva columna basada en la función\n",
    "\n",
    "df['age_group'] = df['dob_years'].apply(age_groups)"
   ]
  },
  {
   "cell_type": "code",
   "execution_count": 43,
   "metadata": {},
   "outputs": [
    {
     "name": "stdout",
     "output_type": "stream",
     "text": [
      "   children  days_employed  dob_years            education  education_id  \\\n",
      "0         1    8437.673028         42     bachelors degree             0   \n",
      "1         1    4024.803754         36  secondary education             1   \n",
      "2         0    5623.422610         33  secondary education             1   \n",
      "3         3    4124.747207         32  secondary education             1   \n",
      "4         0            NaN         53  secondary education             1   \n",
      "5         0     926.185831         27     bachelors degree             0   \n",
      "6         0    2879.202052         43     bachelors degree             0   \n",
      "7         0     152.779569         50  secondary education             1   \n",
      "8         2    6929.865299         35     bachelors degree             0   \n",
      "9         0    2188.756445         41  secondary education             1   \n",
      "\n",
      "       family_status  family_status_id gender income_type  debt  total_income  \\\n",
      "0            married                 0      F    employee     0     40620.102   \n",
      "1            married                 0      F    employee     0     17932.802   \n",
      "2            married                 0      M    employee     0     23341.752   \n",
      "3            married                 0      M    employee     0     42820.568   \n",
      "4  civil partnership                 1      F     retiree     0     25378.572   \n",
      "5  civil partnership                 1      M    business     0     40922.170   \n",
      "6            married                 0      F    business     0     38484.156   \n",
      "7            married                 0      M    employee     0     21731.829   \n",
      "8  civil partnership                 1      F    employee     0     15337.093   \n",
      "9            married                 0      M    employee     0     23108.150   \n",
      "\n",
      "     purpose age_group  \n",
      "0      house     41-50  \n",
      "1        car     31-40  \n",
      "2      house     31-40  \n",
      "3  education     31-40  \n",
      "4    wedding     51-60  \n",
      "5      house     19-30  \n",
      "6    housing     41-50  \n",
      "7  education     41-50  \n",
      "8    wedding     31-40  \n",
      "9      house     41-50  \n",
      "\n",
      "31-40    5709\n",
      "41-50    5303\n",
      "51-60    4466\n",
      "19-30    3696\n",
      "61-70    1998\n",
      "70+       103\n",
      "Name: age_group, dtype: int64\n"
     ]
    }
   ],
   "source": [
    "# Comprobar cómo los valores en la nueva columna\n",
    "\n",
    "print(df.head(10))\n",
    "print()\n",
    "print(df['age_group'].value_counts())"
   ]
  },
  {
   "cell_type": "markdown",
   "metadata": {},
   "source": [
    "Generamos un nuevo dataframe llamado proyect_without_empty que contendrá los datos no ausentes para calcular media y mediana y usar esos valores para sustituir los valores ausentes"
   ]
  },
  {
   "cell_type": "code",
   "execution_count": 44,
   "metadata": {},
   "outputs": [
    {
     "name": "stdout",
     "output_type": "stream",
     "text": [
      "   children  days_employed  dob_years            education  education_id  \\\n",
      "0         1    8437.673028         42     bachelors degree             0   \n",
      "1         1    4024.803754         36  secondary education             1   \n",
      "2         0    5623.422610         33  secondary education             1   \n",
      "3         3    4124.747207         32  secondary education             1   \n",
      "4         0            NaN         53  secondary education             1   \n",
      "5         0     926.185831         27     bachelors degree             0   \n",
      "6         0    2879.202052         43     bachelors degree             0   \n",
      "7         0     152.779569         50  secondary education             1   \n",
      "8         2    6929.865299         35     bachelors degree             0   \n",
      "9         0    2188.756445         41  secondary education             1   \n",
      "\n",
      "       family_status  family_status_id gender income_type  debt  total_income  \\\n",
      "0            married                 0      F    employee     0     40620.102   \n",
      "1            married                 0      F    employee     0     17932.802   \n",
      "2            married                 0      M    employee     0     23341.752   \n",
      "3            married                 0      M    employee     0     42820.568   \n",
      "4  civil partnership                 1      F     retiree     0     25378.572   \n",
      "5  civil partnership                 1      M    business     0     40922.170   \n",
      "6            married                 0      F    business     0     38484.156   \n",
      "7            married                 0      M    employee     0     21731.829   \n",
      "8  civil partnership                 1      F    employee     0     15337.093   \n",
      "9            married                 0      M    employee     0     23108.150   \n",
      "\n",
      "     purpose age_group  \n",
      "0      house     41-50  \n",
      "1        car     31-40  \n",
      "2      house     31-40  \n",
      "3  education     31-40  \n",
      "4    wedding     51-60  \n",
      "5      house     19-30  \n",
      "6    housing     41-50  \n",
      "7  education     41-50  \n",
      "8    wedding     31-40  \n",
      "9      house     41-50  \n"
     ]
    }
   ],
   "source": [
    "# Crea una tabla sin valores ausentes y muestra algunas de sus filas para asegurarte de que se ve bien\n",
    "proyect_without_empty = df[df['total_income'].notna()]\n",
    "print(proyect_without_empty.head(10))"
   ]
  },
  {
   "cell_type": "markdown",
   "metadata": {},
   "source": [
    "Realizamos el cálculo de las medianas y promedio en base al tipo de ingresos y al estatus familiar."
   ]
  },
  {
   "cell_type": "code",
   "execution_count": 45,
   "metadata": {},
   "outputs": [
    {
     "name": "stdout",
     "output_type": "stream",
     "text": [
      "income_type\n",
      "business                       32386.741818\n",
      "civil servant                  27343.729582\n",
      "employee                       25820.841683\n",
      "entrepreneur                   79866.103000\n",
      "paternity / maternity leave     8612.661000\n",
      "retiree                        21940.394503\n",
      "student                        15712.260000\n",
      "unemployed                     21014.360500\n",
      "Name: total_income, dtype: float64\n",
      "\n",
      "income_type\n",
      "business                       27571.0825\n",
      "civil servant                  24071.6695\n",
      "employee                       22815.1035\n",
      "entrepreneur                   79866.1030\n",
      "paternity / maternity leave     8612.6610\n",
      "retiree                        18962.3180\n",
      "student                        15712.2600\n",
      "unemployed                     21014.3605\n",
      "Name: total_income, dtype: float64\n",
      "\n",
      "\n",
      "family_status\n",
      "civil partnership    26692.840381\n",
      "divorced             27189.354550\n",
      "married              27041.784689\n",
      "unmarried            26934.069805\n",
      "widow / widower      22984.208556\n",
      "Name: total_income, dtype: float64\n",
      "\n",
      "family_status\n",
      "civil partnership    23185.477\n",
      "divorced             23515.096\n",
      "married              23389.540\n",
      "unmarried            23149.028\n",
      "widow / widower      20514.190\n",
      "Name: total_income, dtype: float64\n"
     ]
    }
   ],
   "source": [
    "mean_income = proyect_without_empty.groupby('income_type').total_income.mean()\n",
    "print(mean_income)\n",
    "print()\n",
    "median_income = proyect_without_empty.groupby('income_type').total_income.median()\n",
    "print(median_income)\n",
    "print()\n",
    "print()\n",
    "mean_income = proyect_without_empty.groupby('family_status').total_income.mean()\n",
    "print(mean_income)\n",
    "print()\n",
    "median_income = proyect_without_empty.groupby('family_status').total_income.median()\n",
    "print(median_income)"
   ]
  },
  {
   "cell_type": "markdown",
   "metadata": {},
   "source": [
    "Generamos los valores promedio de income en base a los grupos de edad que generamos previamente y observaos que el mayor ingreso se encuentra entre los 30 y 50 años, después disminuye, lo cual hace sentido, ya que se entra a las edades de retiro."
   ]
  },
  {
   "cell_type": "code",
   "execution_count": 46,
   "metadata": {},
   "outputs": [
    {
     "name": "stdout",
     "output_type": "stream",
     "text": [
      "age_group\n",
      "19-30    25815.651899\n",
      "31-40    28376.735148\n",
      "41-50    28332.806009\n",
      "51-60    25482.856294\n",
      "61-70    23245.390243\n",
      "70+      19575.454327\n",
      "Name: total_income, dtype: float64\n"
     ]
    }
   ],
   "source": [
    "# Examina los valores medios de los ingresos en función de los factores que identificaste\n",
    "mean_income = proyect_without_empty.groupby('age_group').total_income.mean()\n",
    "print(mean_income)"
   ]
  },
  {
   "cell_type": "markdown",
   "metadata": {},
   "source": [
    "Hacemos el mismo análisis pero para los valores medios."
   ]
  },
  {
   "cell_type": "code",
   "execution_count": 47,
   "metadata": {
    "scrolled": true
   },
   "outputs": [
    {
     "name": "stdout",
     "output_type": "stream",
     "text": [
      "age_group\n",
      "19-30    22955.4740\n",
      "31-40    24825.1865\n",
      "41-50    24563.6500\n",
      "51-60    22056.7710\n",
      "61-70    19705.8550\n",
      "70+      18611.5935\n",
      "Name: total_income, dtype: float64\n"
     ]
    }
   ],
   "source": [
    "# Examina los valores medianos de los ingresos en función de los factores que identificaste\n",
    "median_income = proyect_without_empty.groupby('age_group').total_income.median()\n",
    "print(median_income)"
   ]
  },
  {
   "cell_type": "markdown",
   "metadata": {},
   "source": [
    "Por la consistencia de los datos, se decide usar los datos clasificados por grupo de edad y específicamente la mediana."
   ]
  },
  {
   "cell_type": "code",
   "execution_count": 48,
   "metadata": {},
   "outputs": [],
   "source": [
    "#  Escribe una función que usaremos para completar los valores ausentes\n",
    "\n",
    "def fill_empty_values(row):\n",
    "    age_group = row['age_group']\n",
    "    total_income = row['total_income']\n",
    "    \n",
    "    if pd.isna(total_income):\n",
    "        return median_income[age_group]\n",
    "    else:\n",
    "        return total_income"
   ]
  },
  {
   "cell_type": "code",
   "execution_count": 49,
   "metadata": {},
   "outputs": [
    {
     "name": "stdout",
     "output_type": "stream",
     "text": [
      "children                              0\n",
      "days_employed                       NaN\n",
      "dob_years                            53\n",
      "education           secondary education\n",
      "education_id                          1\n",
      "family_status         civil partnership\n",
      "family_status_id                      1\n",
      "gender                                F\n",
      "income_type                     retiree\n",
      "debt                                  0\n",
      "total_income                  25378.572\n",
      "purpose                         wedding\n",
      "age_group                         51-60\n",
      "Name: 4, dtype: object\n"
     ]
    }
   ],
   "source": [
    "# Comprueba si funciona\n",
    "df.loc[4,'total_income'] = fill_empty_values(df.loc[4])\n",
    "print(df.loc[4])"
   ]
  },
  {
   "cell_type": "code",
   "execution_count": 50,
   "metadata": {},
   "outputs": [],
   "source": [
    "# Aplícalo a cada fila\n",
    "df['total_income'] = df.apply(fill_empty_values, axis = 1)"
   ]
  },
  {
   "cell_type": "code",
   "execution_count": 51,
   "metadata": {},
   "outputs": [
    {
     "name": "stdout",
     "output_type": "stream",
     "text": [
      "0\n"
     ]
    }
   ],
   "source": [
    "# Comprueba si tenemos algún error\n",
    "print(df['total_income'].isna().sum())"
   ]
  },
  {
   "cell_type": "markdown",
   "metadata": {},
   "source": [
    "Comprobamos que ya no hay valores ausentes en la columna total_income."
   ]
  },
  {
   "cell_type": "code",
   "execution_count": 52,
   "metadata": {},
   "outputs": [
    {
     "name": "stdout",
     "output_type": "stream",
     "text": [
      "<class 'pandas.core.frame.DataFrame'>\n",
      "RangeIndex: 21275 entries, 0 to 21274\n",
      "Data columns (total 13 columns):\n",
      " #   Column            Non-Null Count  Dtype  \n",
      "---  ------            --------------  -----  \n",
      " 0   children          21275 non-null  int64  \n",
      " 1   days_employed     15905 non-null  float64\n",
      " 2   dob_years         21275 non-null  int64  \n",
      " 3   education         21275 non-null  object \n",
      " 4   education_id      21275 non-null  int64  \n",
      " 5   family_status     21275 non-null  object \n",
      " 6   family_status_id  21275 non-null  int64  \n",
      " 7   gender            21275 non-null  object \n",
      " 8   income_type       21275 non-null  object \n",
      " 9   debt              21275 non-null  int64  \n",
      " 10  total_income      21275 non-null  float64\n",
      " 11  purpose           21275 non-null  object \n",
      " 12  age_group         21275 non-null  object \n",
      "dtypes: float64(2), int64(5), object(6)\n",
      "memory usage: 2.1+ MB\n"
     ]
    }
   ],
   "source": [
    "# Comprobar el número de entradas en las columnas\n",
    "\n",
    "df.info()"
   ]
  },
  {
   "cell_type": "markdown",
   "metadata": {},
   "source": [
    "###  Restaurar valores en `days_employed`"
   ]
  },
  {
   "cell_type": "code",
   "execution_count": 53,
   "metadata": {
    "pycharm": {
     "name": "#%%\n"
    }
   },
   "outputs": [
    {
     "name": "stdout",
     "output_type": "stream",
     "text": [
      "age_group\n",
      "19-30    1043.576307\n",
      "31-40    1613.276860\n",
      "41-50    2054.605931\n",
      "51-60    2292.866413\n",
      "61-70    2614.032392\n",
      "70+      2245.558492\n",
      "Name: days_employed, dtype: float64\n"
     ]
    }
   ],
   "source": [
    "# Distribución de las medianas de `days_employed` en función de los parámetros identificados\n",
    "proyect_without_empty = df[df['days_employed'].notna()]\n",
    "\n",
    "median_days = proyect_without_empty.groupby('age_group').days_employed.median()\n",
    "print(median_days)"
   ]
  },
  {
   "cell_type": "code",
   "execution_count": 54,
   "metadata": {},
   "outputs": [
    {
     "name": "stdout",
     "output_type": "stream",
     "text": [
      "age_group\n",
      "19-30    1279.361522\n",
      "31-40    2090.731584\n",
      "41-50    2800.921783\n",
      "51-60    3309.894630\n",
      "61-70    3868.573391\n",
      "70+      3933.895823\n",
      "Name: days_employed, dtype: float64\n"
     ]
    }
   ],
   "source": [
    "# Distribución de las medias de `days_employed` en función de los parámetros identificados\n",
    "\n",
    "mean_days = proyect_without_empty.groupby('age_group').days_employed.mean()\n",
    "print(mean_days)"
   ]
  },
  {
   "cell_type": "markdown",
   "metadata": {},
   "source": [
    "Se decide utilizar los valores promedio, ya que observamos que tienen una tendencia ascendente, lo cual coincide que entre mayor edad se han trabajado más días."
   ]
  },
  {
   "cell_type": "code",
   "execution_count": 55,
   "metadata": {},
   "outputs": [],
   "source": [
    "# Escribamos una función que calcule medias o medianas (dependiendo de tu decisión) según el parámetro identificado\n",
    "def calc_tendencies (column, tendencie):\n",
    "    if tendencie == 'mean':\n",
    "        result = df[column].mean()\n",
    "    if tendencie == 'median':\n",
    "        result = df[column].median()\n",
    "        \n",
    "    return result"
   ]
  },
  {
   "cell_type": "code",
   "execution_count": 56,
   "metadata": {},
   "outputs": [
    {
     "name": "stdout",
     "output_type": "stream",
     "text": [
      "2353.0155808784584\n",
      "1629.9978622545889\n"
     ]
    }
   ],
   "source": [
    "# Comprueba que la función funciona\n",
    "\n",
    "result = calc_tendencies('days_employed','mean')\n",
    "print(result)\n",
    "result = calc_tendencies('days_employed','median')\n",
    "print(result)"
   ]
  },
  {
   "cell_type": "code",
   "execution_count": 57,
   "metadata": {},
   "outputs": [],
   "source": [
    "# Aplicar la función al income_type\n",
    "\n",
    "mean_income = calc_tendencies('total_income','mean')\n",
    "\n",
    "median_income = calc_tendencies('total_income','median')\n"
   ]
  },
  {
   "cell_type": "code",
   "execution_count": 58,
   "metadata": {},
   "outputs": [
    {
     "name": "stdout",
     "output_type": "stream",
     "text": [
      "Promedio de ingresos:\n",
      "26476.740397602818\n",
      "Mediana de ingresos:\n",
      "23241.043\n"
     ]
    }
   ],
   "source": [
    "# Comprueba si la función funcionó\n",
    "print('Promedio de ingresos:')\n",
    "print(mean_income)\n",
    "print('Mediana de ingresos:')\n",
    "print(median_income)"
   ]
  },
  {
   "cell_type": "markdown",
   "metadata": {},
   "source": [
    "Se decide trabajar con el promedio de dias trabajados ordenados por grupos de edad para sustituir los valores ausentes."
   ]
  },
  {
   "cell_type": "code",
   "execution_count": 59,
   "metadata": {},
   "outputs": [
    {
     "name": "stdout",
     "output_type": "stream",
     "text": [
      "age_group\n",
      "19-30    1279.361522\n",
      "31-40    2090.731584\n",
      "41-50    2800.921783\n",
      "51-60    3309.894630\n",
      "61-70    3868.573391\n",
      "70+      3933.895823\n",
      "Name: days_employed, dtype: float64\n"
     ]
    }
   ],
   "source": [
    "mean_days = proyect_without_empty.groupby('age_group').days_employed.mean()\n",
    "print(mean_days)"
   ]
  },
  {
   "cell_type": "code",
   "execution_count": 60,
   "metadata": {},
   "outputs": [],
   "source": [
    "def fill_empty_values(row):\n",
    "    age_group = row['age_group']\n",
    "    days_employed = row['days_employed']\n",
    "    \n",
    "    if pd.isna(days_employed):\n",
    "        return mean_days[age_group]\n",
    "    else:\n",
    "        return days_employed"
   ]
  },
  {
   "cell_type": "code",
   "execution_count": 61,
   "metadata": {},
   "outputs": [],
   "source": [
    "# Reemplazar valores ausentes\n",
    "df['days_employed'] = df.apply(fill_empty_values, axis = 1)\n"
   ]
  },
  {
   "cell_type": "markdown",
   "metadata": {},
   "source": [
    "Finalmente, comprobamos que nuestro data frame ya no contiene valores ausentes."
   ]
  },
  {
   "cell_type": "code",
   "execution_count": 62,
   "metadata": {},
   "outputs": [
    {
     "name": "stdout",
     "output_type": "stream",
     "text": [
      "<class 'pandas.core.frame.DataFrame'>\n",
      "RangeIndex: 21275 entries, 0 to 21274\n",
      "Data columns (total 13 columns):\n",
      " #   Column            Non-Null Count  Dtype  \n",
      "---  ------            --------------  -----  \n",
      " 0   children          21275 non-null  int64  \n",
      " 1   days_employed     21275 non-null  float64\n",
      " 2   dob_years         21275 non-null  int64  \n",
      " 3   education         21275 non-null  object \n",
      " 4   education_id      21275 non-null  int64  \n",
      " 5   family_status     21275 non-null  object \n",
      " 6   family_status_id  21275 non-null  int64  \n",
      " 7   gender            21275 non-null  object \n",
      " 8   income_type       21275 non-null  object \n",
      " 9   debt              21275 non-null  int64  \n",
      " 10  total_income      21275 non-null  float64\n",
      " 11  purpose           21275 non-null  object \n",
      " 12  age_group         21275 non-null  object \n",
      "dtypes: float64(2), int64(5), object(6)\n",
      "memory usage: 2.1+ MB\n"
     ]
    }
   ],
   "source": [
    "# Comprueba las entradas en todas las columnas: asegúrate de que hayamos corregido todos los valores ausentes\n",
    "df.info()"
   ]
  },
  {
   "cell_type": "markdown",
   "metadata": {},
   "source": [
    "## Clasificación de datos\n",
    "\n",
    "Mostramos las primeras 5 filas para determinar que otras categorías podrían ser útiles"
   ]
  },
  {
   "cell_type": "code",
   "execution_count": 63,
   "metadata": {
    "scrolled": true
   },
   "outputs": [
    {
     "data": {
      "text/html": [
       "<div>\n",
       "<style scoped>\n",
       "    .dataframe tbody tr th:only-of-type {\n",
       "        vertical-align: middle;\n",
       "    }\n",
       "\n",
       "    .dataframe tbody tr th {\n",
       "        vertical-align: top;\n",
       "    }\n",
       "\n",
       "    .dataframe thead th {\n",
       "        text-align: right;\n",
       "    }\n",
       "</style>\n",
       "<table border=\"1\" class=\"dataframe\">\n",
       "  <thead>\n",
       "    <tr style=\"text-align: right;\">\n",
       "      <th></th>\n",
       "      <th>children</th>\n",
       "      <th>days_employed</th>\n",
       "      <th>dob_years</th>\n",
       "      <th>education</th>\n",
       "      <th>education_id</th>\n",
       "      <th>family_status</th>\n",
       "      <th>family_status_id</th>\n",
       "      <th>gender</th>\n",
       "      <th>income_type</th>\n",
       "      <th>debt</th>\n",
       "      <th>total_income</th>\n",
       "      <th>purpose</th>\n",
       "      <th>age_group</th>\n",
       "    </tr>\n",
       "  </thead>\n",
       "  <tbody>\n",
       "    <tr>\n",
       "      <th>0</th>\n",
       "      <td>1</td>\n",
       "      <td>8437.673028</td>\n",
       "      <td>42</td>\n",
       "      <td>bachelors degree</td>\n",
       "      <td>0</td>\n",
       "      <td>married</td>\n",
       "      <td>0</td>\n",
       "      <td>F</td>\n",
       "      <td>employee</td>\n",
       "      <td>0</td>\n",
       "      <td>40620.102</td>\n",
       "      <td>house</td>\n",
       "      <td>41-50</td>\n",
       "    </tr>\n",
       "    <tr>\n",
       "      <th>1</th>\n",
       "      <td>1</td>\n",
       "      <td>4024.803754</td>\n",
       "      <td>36</td>\n",
       "      <td>secondary education</td>\n",
       "      <td>1</td>\n",
       "      <td>married</td>\n",
       "      <td>0</td>\n",
       "      <td>F</td>\n",
       "      <td>employee</td>\n",
       "      <td>0</td>\n",
       "      <td>17932.802</td>\n",
       "      <td>car</td>\n",
       "      <td>31-40</td>\n",
       "    </tr>\n",
       "    <tr>\n",
       "      <th>2</th>\n",
       "      <td>0</td>\n",
       "      <td>5623.422610</td>\n",
       "      <td>33</td>\n",
       "      <td>secondary education</td>\n",
       "      <td>1</td>\n",
       "      <td>married</td>\n",
       "      <td>0</td>\n",
       "      <td>M</td>\n",
       "      <td>employee</td>\n",
       "      <td>0</td>\n",
       "      <td>23341.752</td>\n",
       "      <td>house</td>\n",
       "      <td>31-40</td>\n",
       "    </tr>\n",
       "    <tr>\n",
       "      <th>3</th>\n",
       "      <td>3</td>\n",
       "      <td>4124.747207</td>\n",
       "      <td>32</td>\n",
       "      <td>secondary education</td>\n",
       "      <td>1</td>\n",
       "      <td>married</td>\n",
       "      <td>0</td>\n",
       "      <td>M</td>\n",
       "      <td>employee</td>\n",
       "      <td>0</td>\n",
       "      <td>42820.568</td>\n",
       "      <td>education</td>\n",
       "      <td>31-40</td>\n",
       "    </tr>\n",
       "    <tr>\n",
       "      <th>4</th>\n",
       "      <td>0</td>\n",
       "      <td>3309.894630</td>\n",
       "      <td>53</td>\n",
       "      <td>secondary education</td>\n",
       "      <td>1</td>\n",
       "      <td>civil partnership</td>\n",
       "      <td>1</td>\n",
       "      <td>F</td>\n",
       "      <td>retiree</td>\n",
       "      <td>0</td>\n",
       "      <td>25378.572</td>\n",
       "      <td>wedding</td>\n",
       "      <td>51-60</td>\n",
       "    </tr>\n",
       "  </tbody>\n",
       "</table>\n",
       "</div>"
      ],
      "text/plain": [
       "   children  days_employed  dob_years            education  education_id  \\\n",
       "0         1    8437.673028         42     bachelors degree             0   \n",
       "1         1    4024.803754         36  secondary education             1   \n",
       "2         0    5623.422610         33  secondary education             1   \n",
       "3         3    4124.747207         32  secondary education             1   \n",
       "4         0    3309.894630         53  secondary education             1   \n",
       "\n",
       "       family_status  family_status_id gender income_type  debt  total_income  \\\n",
       "0            married                 0      F    employee     0     40620.102   \n",
       "1            married                 0      F    employee     0     17932.802   \n",
       "2            married                 0      M    employee     0     23341.752   \n",
       "3            married                 0      M    employee     0     42820.568   \n",
       "4  civil partnership                 1      F     retiree     0     25378.572   \n",
       "\n",
       "     purpose age_group  \n",
       "0      house     41-50  \n",
       "1        car     31-40  \n",
       "2      house     31-40  \n",
       "3  education     31-40  \n",
       "4    wedding     51-60  "
      ]
     },
     "execution_count": 63,
     "metadata": {},
     "output_type": "execute_result"
    }
   ],
   "source": [
    "df.head()"
   ]
  },
  {
   "cell_type": "markdown",
   "metadata": {},
   "source": [
    "Realizaremos 2 categorías más, una para los días trabajados y otra por niveles de ingresos"
   ]
  },
  {
   "cell_type": "code",
   "execution_count": 64,
   "metadata": {},
   "outputs": [
    {
     "data": {
      "text/plain": [
       "count    21275.000000\n",
       "mean      2558.608007\n",
       "std       2056.387339\n",
       "min         24.141633\n",
       "25%       1016.355551\n",
       "50%       2212.410477\n",
       "75%       3340.811396\n",
       "max      18388.949901\n",
       "Name: days_employed, dtype: float64"
      ]
     },
     "execution_count": 64,
     "metadata": {},
     "output_type": "execute_result"
    }
   ],
   "source": [
    "# Escribamos una función para clasificar los datos en función de temas comunes\n",
    "df['days_employed'].describe()"
   ]
  },
  {
   "cell_type": "code",
   "execution_count": 65,
   "metadata": {},
   "outputs": [],
   "source": [
    "# Crea una columna con las categorías y cuenta los valores en ellas\n",
    "\n",
    "def days_group(days):\n",
    "    if days <= 730:\n",
    "        return 'junior'\n",
    "    if 730 < days <= 3285:\n",
    "        return 'mid_senior'\n",
    "    if 3285 < days:\n",
    "        return 'senior'\n",
    "    "
   ]
  },
  {
   "cell_type": "code",
   "execution_count": 66,
   "metadata": {},
   "outputs": [
    {
     "name": "stdout",
     "output_type": "stream",
     "text": [
      "   children  days_employed  dob_years            education  education_id  \\\n",
      "0         1    8437.673028         42     bachelors degree             0   \n",
      "1         1    4024.803754         36  secondary education             1   \n",
      "2         0    5623.422610         33  secondary education             1   \n",
      "3         3    4124.747207         32  secondary education             1   \n",
      "4         0    3309.894630         53  secondary education             1   \n",
      "5         0     926.185831         27     bachelors degree             0   \n",
      "6         0    2879.202052         43     bachelors degree             0   \n",
      "7         0     152.779569         50  secondary education             1   \n",
      "8         2    6929.865299         35     bachelors degree             0   \n",
      "9         0    2188.756445         41  secondary education             1   \n",
      "\n",
      "       family_status  family_status_id gender income_type  debt  total_income  \\\n",
      "0            married                 0      F    employee     0     40620.102   \n",
      "1            married                 0      F    employee     0     17932.802   \n",
      "2            married                 0      M    employee     0     23341.752   \n",
      "3            married                 0      M    employee     0     42820.568   \n",
      "4  civil partnership                 1      F     retiree     0     25378.572   \n",
      "5  civil partnership                 1      M    business     0     40922.170   \n",
      "6            married                 0      F    business     0     38484.156   \n",
      "7            married                 0      M    employee     0     21731.829   \n",
      "8  civil partnership                 1      F    employee     0     15337.093   \n",
      "9            married                 0      M    employee     0     23108.150   \n",
      "\n",
      "     purpose age_group  days_group  \n",
      "0      house     41-50      senior  \n",
      "1        car     31-40      senior  \n",
      "2      house     31-40      senior  \n",
      "3  education     31-40      senior  \n",
      "4    wedding     51-60      senior  \n",
      "5      house     19-30  mid_senior  \n",
      "6    housing     41-50  mid_senior  \n",
      "7  education     41-50      junior  \n",
      "8    wedding     31-40      senior  \n",
      "9      house     41-50  mid_senior  \n",
      "\n",
      "31-40    5709\n",
      "41-50    5303\n",
      "51-60    4466\n",
      "19-30    3696\n",
      "61-70    1998\n",
      "70+       103\n",
      "Name: age_group, dtype: int64\n"
     ]
    }
   ],
   "source": [
    "df['days_group'] = df['days_employed'].apply(days_group)\n",
    "print(df.head(10))\n",
    "print()\n",
    "print(df['age_group'].value_counts())"
   ]
  },
  {
   "cell_type": "code",
   "execution_count": 67,
   "metadata": {},
   "outputs": [
    {
     "data": {
      "text/plain": [
       "count     21275.000000\n",
       "mean      26476.740398\n",
       "std       15751.130908\n",
       "min        3306.762000\n",
       "25%       17142.169000\n",
       "50%       23241.043000\n",
       "75%       31415.656000\n",
       "max      362496.645000\n",
       "Name: total_income, dtype: float64"
      ]
     },
     "execution_count": 67,
     "metadata": {},
     "output_type": "execute_result"
    }
   ],
   "source": [
    "# Escribamos una función para clasificar los datos en función de temas comunes\n",
    "df['total_income'].describe()"
   ]
  },
  {
   "cell_type": "code",
   "execution_count": 68,
   "metadata": {},
   "outputs": [],
   "source": [
    "# Crea una columna con las categorías y cuenta los valores en ellas\n",
    "\n",
    "def income_groups(income):\n",
    "    if income <= 19000:\n",
    "        return 'lower'\n",
    "    if 19000 < income <= 40000:\n",
    "        return 'working'\n",
    "    if 40000 < income <= 150000:\n",
    "        return 'middle'\n",
    "    if 150000 < income <= 250000:\n",
    "        return 'upper_middle'\n",
    "    if 250000 < income:\n",
    "        return 'upper'\n",
    "    "
   ]
  },
  {
   "cell_type": "code",
   "execution_count": 69,
   "metadata": {},
   "outputs": [
    {
     "name": "stdout",
     "output_type": "stream",
     "text": [
      "   children  days_employed  dob_years            education  education_id  \\\n",
      "0         1    8437.673028         42     bachelors degree             0   \n",
      "1         1    4024.803754         36  secondary education             1   \n",
      "2         0    5623.422610         33  secondary education             1   \n",
      "3         3    4124.747207         32  secondary education             1   \n",
      "4         0    3309.894630         53  secondary education             1   \n",
      "5         0     926.185831         27     bachelors degree             0   \n",
      "6         0    2879.202052         43     bachelors degree             0   \n",
      "7         0     152.779569         50  secondary education             1   \n",
      "8         2    6929.865299         35     bachelors degree             0   \n",
      "9         0    2188.756445         41  secondary education             1   \n",
      "\n",
      "       family_status  family_status_id gender income_type  debt  total_income  \\\n",
      "0            married                 0      F    employee     0     40620.102   \n",
      "1            married                 0      F    employee     0     17932.802   \n",
      "2            married                 0      M    employee     0     23341.752   \n",
      "3            married                 0      M    employee     0     42820.568   \n",
      "4  civil partnership                 1      F     retiree     0     25378.572   \n",
      "5  civil partnership                 1      M    business     0     40922.170   \n",
      "6            married                 0      F    business     0     38484.156   \n",
      "7            married                 0      M    employee     0     21731.829   \n",
      "8  civil partnership                 1      F    employee     0     15337.093   \n",
      "9            married                 0      M    employee     0     23108.150   \n",
      "\n",
      "     purpose age_group  days_group income_groups  \n",
      "0      house     41-50      senior        middle  \n",
      "1        car     31-40      senior         lower  \n",
      "2      house     31-40      senior       working  \n",
      "3  education     31-40      senior        middle  \n",
      "4    wedding     51-60      senior       working  \n",
      "5      house     19-30  mid_senior        middle  \n",
      "6    housing     41-50  mid_senior       working  \n",
      "7  education     41-50      junior       working  \n",
      "8    wedding     31-40      senior         lower  \n",
      "9      house     41-50  mid_senior       working  \n",
      "\n",
      "working         11729\n",
      "lower            6734\n",
      "middle           2784\n",
      "upper_middle       22\n",
      "upper               6\n",
      "Name: income_groups, dtype: int64\n"
     ]
    }
   ],
   "source": [
    "df['income_groups'] = df['total_income'].apply(income_groups)\n",
    "print(df.head(10))\n",
    "print()\n",
    "print(df['income_groups'].value_counts())"
   ]
  },
  {
   "cell_type": "code",
   "execution_count": 70,
   "metadata": {
    "scrolled": true
   },
   "outputs": [
    {
     "name": "stdout",
     "output_type": "stream",
     "text": [
      "<class 'pandas.core.frame.DataFrame'>\n",
      "RangeIndex: 21275 entries, 0 to 21274\n",
      "Data columns (total 15 columns):\n",
      " #   Column            Non-Null Count  Dtype  \n",
      "---  ------            --------------  -----  \n",
      " 0   children          21275 non-null  int64  \n",
      " 1   days_employed     21275 non-null  float64\n",
      " 2   dob_years         21275 non-null  int64  \n",
      " 3   education         21275 non-null  object \n",
      " 4   education_id      21275 non-null  int64  \n",
      " 5   family_status     21275 non-null  object \n",
      " 6   family_status_id  21275 non-null  int64  \n",
      " 7   gender            21275 non-null  object \n",
      " 8   income_type       21275 non-null  object \n",
      " 9   debt              21275 non-null  int64  \n",
      " 10  total_income      21275 non-null  float64\n",
      " 11  purpose           21275 non-null  object \n",
      " 12  age_group         21275 non-null  object \n",
      " 13  days_group        21275 non-null  object \n",
      " 14  income_groups     21275 non-null  object \n",
      "dtypes: float64(2), int64(5), object(8)\n",
      "memory usage: 2.4+ MB\n"
     ]
    }
   ],
   "source": [
    "# Contar los valores de cada categoría para ver la distribución\n",
    "df.info()"
   ]
  },
  {
   "cell_type": "markdown",
   "metadata": {},
   "source": [
    "## Comprobación de las hipótesis\n"
   ]
  },
  {
   "cell_type": "markdown",
   "metadata": {},
   "source": [
    "**¿Existe una correlación entre tener hijos y pagar a tiempo?**"
   ]
  },
  {
   "cell_type": "code",
   "execution_count": 71,
   "metadata": {},
   "outputs": [
    {
     "data": {
      "text/plain": [
       "children\n",
       "0    7.616725\n",
       "1    9.205627\n",
       "2    9.532798\n",
       "3    8.206687\n",
       "4    9.756098\n",
       "5         NaN\n",
       "Name: debt, dtype: float64"
      ]
     },
     "execution_count": 71,
     "metadata": {},
     "output_type": "execute_result"
    }
   ],
   "source": [
    "child_with_debt = df[df['debt'] == 1]\n",
    "child_with_debt = child_with_debt.groupby('children')['debt'].count()\n",
    "\n",
    "100*(child_with_debt/df.groupby('children')['debt'].count())"
   ]
  },
  {
   "cell_type": "markdown",
   "metadata": {},
   "source": [
    "**Conclusión**\n",
    "\n",
    "Se concluye que los grupos de edad más propensos a tener deuda son los que tienen de 1 a 4 hijos, ya que los que no cuentan con hijos o tienen más de 4 representan un porcentaje inferior."
   ]
  },
  {
   "cell_type": "markdown",
   "metadata": {},
   "source": [
    "**¿Existe una correlación entre la situación familiar y el pago a tiempo?**"
   ]
  },
  {
   "cell_type": "code",
   "execution_count": 72,
   "metadata": {},
   "outputs": [
    {
     "data": {
      "text/plain": [
       "family_status\n",
       "civil partnership    9.401502\n",
       "divorced             7.118928\n",
       "married              7.619828\n",
       "unmarried            9.799714\n",
       "widow / widower      6.610703\n",
       "Name: debt, dtype: float64"
      ]
     },
     "execution_count": 72,
     "metadata": {},
     "output_type": "execute_result"
    }
   ],
   "source": [
    "# Comprueba los datos del estado familiar y los pagos a tiempo\n",
    "\n",
    "family_with_debt = df[df['debt'] == 1]\n",
    "family_with_debt = family_with_debt.groupby('family_status')['debt'].count()\n",
    "\n",
    "# Calcular la tasa de incumplimiento basada en el estado familiar\n",
    "\n",
    "100*(family_with_debt/df.groupby('family_status')['debt'].count())"
   ]
  },
  {
   "cell_type": "markdown",
   "metadata": {},
   "source": [
    "**Conclusión**\n",
    "\n",
    "Se concluye que las personas más propensas a tener deuda son las que se encuentra en civil partnership o unmarried."
   ]
  },
  {
   "cell_type": "markdown",
   "metadata": {},
   "source": [
    "**¿Existe una correlación entre el nivel de ingresos y el pago a tiempo?**"
   ]
  },
  {
   "cell_type": "code",
   "execution_count": 73,
   "metadata": {},
   "outputs": [
    {
     "data": {
      "text/plain": [
       "income_groups\n",
       "lower            8.108108\n",
       "middle           6.896552\n",
       "upper           16.666667\n",
       "upper_middle     4.545455\n",
       "working          8.525876\n",
       "Name: debt, dtype: float64"
      ]
     },
     "execution_count": 73,
     "metadata": {},
     "output_type": "execute_result"
    }
   ],
   "source": [
    "# Comprueba los datos del nivel de ingresos y los pagos a tiempo\n",
    "\n",
    "income_with_debt = df[df['debt'] == 1]\n",
    "income_with_debt = income_with_debt.groupby('income_groups')['debt'].count()\n",
    "\n",
    "# Calcular la tasa de incumplimiento basada en el nivel de ingresos\n",
    "\n",
    "100*(income_with_debt/df.groupby('income_groups')['debt'].count())"
   ]
  },
  {
   "cell_type": "markdown",
   "metadata": {},
   "source": [
    "**Conclusión**\n",
    "\n",
    "Se concluye que el grupo más propenso a tener deuda son los de mayores ingresos, en este caso superiores a 250,000."
   ]
  },
  {
   "cell_type": "markdown",
   "metadata": {},
   "source": [
    "**¿Cómo afecta el propósito del crédito a la tasa de incumplimiento?**"
   ]
  },
  {
   "cell_type": "code",
   "execution_count": 74,
   "metadata": {},
   "outputs": [
    {
     "data": {
      "text/plain": [
       "purpose\n",
       "car            9.410112\n",
       "education      9.334006\n",
       "house          6.698312\n",
       "housing        6.810982\n",
       "property       7.524752\n",
       "real estate    7.603530\n",
       "wedding        8.069414\n",
       "Name: debt, dtype: float64"
      ]
     },
     "execution_count": 74,
     "metadata": {},
     "output_type": "execute_result"
    }
   ],
   "source": [
    "# Consulta los porcentajes de tasa de incumplimiento para cada propósito del crédito y analízalos\n",
    "\n",
    "purpose_with_debt = df[df['debt'] == 1]\n",
    "purpose_with_debt = purpose_with_debt.groupby('purpose')['debt'].count()\n",
    "\n",
    "100*(purpose_with_debt/df.groupby('purpose')['debt'].count())"
   ]
  },
  {
   "cell_type": "markdown",
   "metadata": {},
   "source": [
    "**Conclusión**\n",
    "\n",
    "Se concluye que las personas cuyo propósito es un carro, educación o una boda son más propenso a tener deuda."
   ]
  },
  {
   "cell_type": "markdown",
   "metadata": {},
   "source": [
    "# Conclusión general \n"
   ]
  },
  {
   "cell_type": "markdown",
   "metadata": {},
   "source": [
    "En este proyecto se realizó un trabajo importante de preprocesamiento, donde tuvimos que revisar los valores ausentes, de que manera rellenarlos o eliminarlos, se revisaron valores duplicados, así como revisar cada columna en busca de valores que no tuvieran sentido y determinar si era conveniente reemplazarlos por otros valores o eliminarlos.\n",
    "\n",
    "Se observó que si únicamente nos basamos en los datos y funciones, sin analizar el contexto del tipo de datos o la información que nos proporcionan, podemos pasar errores por alto o no tratarlos de manera adecuada."
   ]
  },
  {
   "cell_type": "markdown",
   "metadata": {},
   "source": [
    "Después de realizar este procesamiento y tener nuestro data frame corregido, se pudieron realizar análisis de los datos para obtener conclusiones y ver patrones, si el propósito afecta, así como el nivel de ingresos, el estatus familiar o la cantidad de hijos, todo esto para apoyar a determinar la calificación crediticia que tiene un posible cliente y tener mejores criterior para determinar la capacidad de pago de un cliente por diversos factores que no sean únicamente sus ingresos."
   ]
  }
 ],
 "metadata": {
  "ExecuteTimeLog": [
   {
    "duration": 2741,
    "start_time": "2021-10-21T01:08:49.480Z"
   },
   {
    "duration": 52,
    "start_time": "2021-10-21T01:08:53.315Z"
   },
   {
    "duration": 49,
    "start_time": "2021-10-21T01:08:57.432Z"
   },
   {
    "duration": 70,
    "start_time": "2021-10-21T01:09:07.706Z"
   }
  ],
  "kernelspec": {
   "display_name": "Python 3 (ipykernel)",
   "language": "python",
   "name": "python3"
  },
  "language_info": {
   "codemirror_mode": {
    "name": "ipython",
    "version": 3
   },
   "file_extension": ".py",
   "mimetype": "text/x-python",
   "name": "python",
   "nbconvert_exporter": "python",
   "pygments_lexer": "ipython3",
   "version": "3.9.5"
  },
  "toc": {
   "base_numbering": 1,
   "nav_menu": {},
   "number_sections": true,
   "sideBar": true,
   "skip_h1_title": true,
   "title_cell": "Table of Contents",
   "title_sidebar": "Contents",
   "toc_cell": false,
   "toc_position": {},
   "toc_section_display": true,
   "toc_window_display": false
  }
 },
 "nbformat": 4,
 "nbformat_minor": 2
}
